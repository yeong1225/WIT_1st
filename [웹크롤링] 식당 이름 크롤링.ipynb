{
 "cells": [
  {
   "cell_type": "code",
   "execution_count": 284,
   "id": "3d0ed70a",
   "metadata": {},
   "outputs": [],
   "source": [
    "from selenium import webdriver\n",
    "from selenium.webdriver.common.by import By\n",
    "from selenium.webdriver.common.keys import Keys\n",
    "from selenium.webdriver.support.ui import WebDriverWait\n",
    "from selenium.webdriver.support import expected_conditions as EC #selenium에서 사용할 모듈 import\n",
    "from selenium.common.exceptions import NoSuchElementException,StaleElementReferenceException,TimeoutException"
   ]
  },
  {
   "cell_type": "code",
   "execution_count": 319,
   "id": "400a9cf7",
   "metadata": {},
   "outputs": [],
   "source": [
    "import time\n",
    "import requests\n",
    "from bs4 import BeautifulSoup\n",
    "\n",
    "import re\n",
    "import csv\n",
    "import pandas as pd"
   ]
  },
  {
   "cell_type": "code",
   "execution_count": 326,
   "id": "676ac287",
   "metadata": {},
   "outputs": [],
   "source": [
    "driver = webdriver.Chrome(\"C:\\Temp\\chromedriver\\chromedriver.exe\")\n",
    "url = \"https://map.naver.com/v5/search\"\n",
    "driver.get(url)\n",
    "try:\n",
    "    element = WebDriverWait(driver,10).until(\n",
    "        EC.presence_of_element_located((By.CLASS_NAME, \"input_search\"))\n",
    "    ) #입력창이 뜰 때까지 대기\n",
    "finally:\n",
    "    pass\n",
    "    \n",
    "    \n",
    "#try:\n",
    "    #f = open('foo.txt', 'w')\n",
    "    # 무언가를 수행한다.\n",
    "\n",
    "    #(... 생략 ...)\n",
    "#finally:\n",
    "    #f.close()  # 중간에 오류가 발생하더라도 무조건 실행된다."
   ]
  },
  {
   "cell_type": "code",
   "execution_count": 327,
   "id": "fa756655",
   "metadata": {},
   "outputs": [],
   "source": [
    "search_box = driver.find_element(By.CLASS_NAME,\"input_search\")\n",
    "search_box.send_keys(\"전남대 상대 맛집\")\n",
    "search_box.send_keys(Keys.ENTER) #검색창에 \"전남대 맛집\" 입력"
   ]
  },
  {
   "cell_type": "code",
   "execution_count": 330,
   "id": "45eebfb2",
   "metadata": {},
   "outputs": [],
   "source": [
    "time.sleep(7) #화면 표시 기다리기\n",
    "frame = driver.find_element_by_css_selector(\"iframe#searchIframe\")\n",
    "driver.switch_to.frame(frame)\n",
    "\n",
    "time.sleep(3)\n",
    "# 여기까지 iframe 전환"
   ]
  },
  {
   "cell_type": "code",
   "execution_count": 331,
   "id": "fd9fdac7",
   "metadata": {},
   "outputs": [],
   "source": [
    "scroll_div = driver.find_element_by_xpath('//*[@id=\"_pcmap_list_scroll_container\"]')\n",
    "#검색 결과로 나타나는 scroll-bar 포함한 div 잡고\n",
    "driver.execute_script(\"arguments[0].scrollBy(0,2000)\", scroll_div)\n",
    "time.sleep(2)\n",
    "driver.execute_script(\"arguments[0].scrollBy(0,2000);\", scroll_div)\n",
    "time.sleep(2)\n",
    "driver.execute_script(\"arguments[0].scrollBy(0,2000);\", scroll_div)\n",
    "time.sleep(2)\n",
    "driver.execute_script(\"arguments[0].scrollBy(0,2000);\", scroll_div)\n",
    "time.sleep(2)\n",
    "driver.execute_script(\"arguments[0].scrollBy(0,2000);\", scroll_div)\n",
    "time.sleep(2)\n",
    "#여기까지 scroll\n",
    "#맨 아래까지 내려서 해당 페이지의 내용이 다 표시되게 함\n",
    "#//*[@id=\"_pcmap_list_scroll_container\"]"
   ]
  },
  {
   "cell_type": "code",
   "execution_count": 332,
   "id": "8f0a23cd",
   "metadata": {},
   "outputs": [],
   "source": [
    "#csv 파일 생성\n",
    "file = open('12.csv', mode='w', newline='')\n",
    "writer = csv.writer(file)\n",
    "writer.writerow([\"place\", \"rate\",\"address\",\"image\",\"menu1\",\"menu1img\"])\n",
    "final_result = []\n",
    "time.sleep(1)"
   ]
  },
  {
   "cell_type": "code",
   "execution_count": 343,
   "id": "db017863",
   "metadata": {},
   "outputs": [
    {
     "ename": "SyntaxError",
     "evalue": "unexpected EOF while parsing (Temp/ipykernel_14000/448543333.py, line 79)",
     "output_type": "error",
     "traceback": [
      "\u001b[1;36m  File \u001b[1;32m\"C:\\Users\\hbhbh\\AppData\\Local\\Temp/ipykernel_14000/448543333.py\"\u001b[1;36m, line \u001b[1;32m79\u001b[0m\n\u001b[1;33m    time.sleep(8)\u001b[0m\n\u001b[1;37m                 ^\u001b[0m\n\u001b[1;31mSyntaxError\u001b[0m\u001b[1;31m:\u001b[0m unexpected EOF while parsing\n"
     ]
    }
   ],
   "source": [
    "i = 2\n",
    "while i<=5: \n",
    "    stores_box = driver.find_element_by_xpath('//*[@id=\"_pcmap_list_scroll_container\"]/ul')\n",
    "    stores = driver.find_elements_by_css_selector(\"li\")\n",
    "    #_pcmap_list_scroll_container > ul > li:nth-child(1)\n",
    "    #해당 페이지에서 표시된 모든 가게 정보\n",
    "    for store in stores: #한 페이지 내에서의 반복문. 순차적으로 가게 정보에 접근\n",
    "        name = store.find_element_by_css_selector(\"div.CHC5F > div.eY7cJ > a > div > div > span.place_bluelink.TYaxT\").text #가게 이름\n",
    "        #_pcmap_list_scroll_container > ul > li:nth-child(1) > div.CHC5F > div.eY7cJ > a > div > div > span.place_bluelink.TYaxT\n",
    "        #app-root > div > div > div > div.place_section.OP4V8 > div.zD5Nm.f7aZ0 > div.dAsGb > span.PXMot.LXIwF > em\n",
    "        #리뷰 정보\n",
    "        try:    \n",
    "            rating = re.search(r'/span>(\\d+\\.?\\d*)', store.find_element_by_css_selector(\"div.CHC5F > div.Dr_06 > div > span.h69bs.a2RFq\").get_attribute('innerHTML')).groups()[0]\n",
    "            #_pcmap_list_scroll_container > ul > li:nth-child(1) > div.CHC5F > div.Dr_06 > div > span.h69bs.a2RFq\n",
    "            #_pcmap_list_scroll_container > ul > li:nth-child(1) > div.CHC5F > div.Dr_06 > div > span.h69bs.a2RFq > span\n",
    "        except:\n",
    "            rating = ''\n",
    "        time.sleep(3)\n",
    "            # 평점 숫자 부분만 rating에 담음. 평점이 없는 경우가 있어 예외 처리\n",
    "        #이미지 정보 확인\n",
    "        try:\n",
    "            #img_src = re.findall(r'url\\(\"([^\"]+)\"\\)', store.find_element_by_css_selector(\"div.yLaWz.FlUUg.bnOAZ > div > div > div > a:nth-child(1) >div > div\").get_attribute('style')).groups()[0]\n",
    "            #_pcmap_list_scroll_container > ul > li:nth-child(1) > div.yLaWz.FlUUg.bnOAZ > div > div > div > a:nth-child(1) > div > div\n",
    "            #_pcmap_list_scroll_container > ul > li:nth-child(3) > div.yLaWz.FlUUg.bnOAZ > div > div > div > a:nth-child(1) > div > div\n",
    "            style_attribute = store.find_element_by_css_selector(\"div.yLaWz.FlUUg.bnOAZ > div > div > div > a:nth-child(1) >div > div\").get_attribute('style')\n",
    "            img_src = re.findall(r'url\\(\"([^\"]+)\"\\)', style_attribute)[0]  # 첫 번째 사진 URL 가져오기\n",
    "        except:\n",
    "            img_src = ''\n",
    "            #역시 대표 이미지가 없는 경우가 있어 예외 처리\n",
    "        click_name = store.find_element_by_css_selector(\"div.CHC5F > div.eY7cJ > a > div > div > span.place_bluelink.TYaxT\")\n",
    "        click_name.click() \n",
    "        # 가게 주소, 홈페이지 링크를 확인하려면 가게 이름을 클릭해 세부 정보를 띄워야 함.\n",
    "        driver.switch_to.default_content()\n",
    "        time.sleep(7)\n",
    "        frame_in = driver.find_element_by_xpath('//*[@id=\"entryIframe\"]')\n",
    "        #//*[@id=\"entryIframe\"]\n",
    "        driver.switch_to.frame(frame_in) \n",
    "        time.sleep(3)\n",
    "        #주소 정보 확인\n",
    "        try:\n",
    "            #address = re.search('광주\\s(.+)',driver.find_element_by_css_selector(\"#app-root > div > div > div > div:nth-child(6) > div > div.place_section.no_margin.vKA6F > div > div > div.O8qbU.tQY7D > div > a > span.LDgIH\")).text.groups()[0]\n",
    "            #app-root > div > div > div > div:nth-child(6) > div > div.place_section.no_margin.vKA6F > div > div > div.O8qbU.tQY7D > div > a > span.LDgIH\n",
    "            address_element = driver.find_element_by_css_selector(\"#app-root > div > div > div > div:nth-child(6) > div > div.place_section.no_margin.vKA6F > div > div > div.O8qbU.tQY7D > div > a > span.LDgIH\")\n",
    "            address_text = address_element.text\n",
    "            address = re.findall(r'광주\\s(.+)', address_text)\n",
    "        except:\n",
    "            address = ''\n",
    "        #메뉴 추출\n",
    "        try:\n",
    "            driver.execute_script(\"window.scrollTo(0,2000);\")\n",
    "            time.sleep(2)\n",
    "        except:\n",
    "            menu1 = ''\n",
    "            #menu1img = ' '\n",
    "        #메뉴 1 이름 확인\n",
    "#         try:\n",
    "#             munu1 = store.find_element_by_css_selector(\"a > div.MN48z > div.erVoL > div\").text\n",
    "#             #app-root > div > div > div > div:nth-child(7) > div > div:nth-child(3) > div.place_section_content > ul > li:nth-child(1) > a > div.MN48z > div.erVoL > div\n",
    "#             #a > div.ZHqBk > div > img\n",
    "#             #app-root > div > div > div > div:nth-child(7) > div > div:nth-child(3) > div.place_section_content > ul > li:nth-child(1) > a > div.ZHqBk > div > img\n",
    "#         except:\n",
    "#             munu1 = ''\n",
    "        store_info = {\n",
    "            'placetitle': name,\n",
    "            'rate': rating,\n",
    "            'address': address,\n",
    "            'image': img_src,\n",
    "            'menu1' : menu1\n",
    "        }\n",
    "\n",
    "\n",
    "    #크롤링한 정보들을 store_info에 담고\n",
    "        print(name,rating,address,img_src,menu1)\n",
    "        print(\"*\" * 50)\n",
    "        final_result.append(store_info)\n",
    "                    # 출력해서 확인 후 final_result에 저장\n",
    "\n",
    "        driver.switch_to.default_content()\n",
    "        driver.switch_to.frame(frame)\n",
    "        time.sleep(8)"
   ]
  },
  {
   "cell_type": "code",
   "execution_count": null,
   "id": "703b9833",
   "metadata": {},
   "outputs": [],
   "source": [
    "for result in final_result: #크롤링한 가게 정보에 순차적으로 접근 & csv 파일 작성\n",
    "    row = []\n",
    "    row.append(result['placetitle'])\n",
    "    row.append(result['rate'])\n",
    "    row.append(result['address'])\n",
    "    row.append(result['image'])\n",
    "    writer.writerow(row)\n",
    "file.close()"
   ]
  },
  {
   "cell_type": "code",
   "execution_count": 212,
   "id": "ed16888e",
   "metadata": {},
   "outputs": [
    {
     "name": "stdout",
     "output_type": "stream",
     "text": [
      "[{'placetitle': '피자스쿨 광주전대상대점', 'rate': '4.45', 'address': ['북구 반룡로 25 1층'], 'image': ['https://search.pstatic.net/common/?autoRotate=true&type=w278_sharpen&src=https%3A%2F%2Fldb-phinf.pstatic.net%2F20200405_99%2F1586015464813Aoipz_JPEG%2F2fjK8subE_QGIzIFz2um3jLh.jpeg.jpg']}, {'placetitle': '오늘하루가 전대상대점', 'rate': '4.94', 'address': ['북구 반룡로27번길 17'], 'image': ['https://search.pstatic.net/common/?autoRotate=true&type=w278_sharpen&src=https%3A%2F%2Fldb-phinf.pstatic.net%2F20221207_72%2F1670411893274cWpg3_JPEG%2F%25B0%25A3%25C6%25C7%25BB%25E7%25C1%25F81.jpeg']}, {'placetitle': '마니마니전대상대점', 'rate': '4.08', 'address': ['북구 설죽로202번길 100'], 'image': ''}, {'placetitle': '국수나무 광주전대상대점', 'rate': '4.57', 'address': ['북구 반룡로27번길 7'], 'image': ''}, {'placetitle': '메가MGC커피 전대상대점', 'rate': '4.42', 'address': ['북구 설죽로202번길 64 1층'], 'image': ''}, {'placetitle': '얌얌 전대상대점', 'rate': '4.63', 'address': ['북구 설죽로214번길 115'], 'image': ''}, {'placetitle': '진심커피 전남대상대점', 'rate': '', 'address': ['북구 설죽로202번길 68'], 'image': ['https://search.pstatic.net/common/?autoRotate=true&type=w278_sharpen&src=https%3A%2F%2Fldb-phinf.pstatic.net%2F20220524_259%2F16533671399203x37W_JPEG%2FKakaoTalk_20220111_160739106.jpg']}, {'placetitle': '더카페 전대상대점', 'rate': '4.51', 'address': ['북구 설죽로214번길 127'], 'image': ''}, {'placetitle': '놀부부대찌개 전대상대점', 'rate': '4.6', 'address': ['북구 설죽로202번길 72'], 'image': ''}, {'placetitle': '컴포즈커피 광주전대상대점', 'rate': '', 'address': ['북구 반룡로27번길 5'], 'image': ''}, {'placetitle': '더벤티 광주전대상대점', 'rate': '4.9', 'address': ['북구 설죽로214번길 104 1층'], 'image': ''}, {'placetitle': '통발 전대상대점', 'rate': '4.37', 'address': ['북구 반룡로28번길 32-1'], 'image': ''}, {'placetitle': '썬더치킨 상대점', 'rate': '4.64', 'address': ['북구 설죽로202번길 36'], 'image': ''}, {'placetitle': '마라푸우 상대점', 'rate': '', 'address': ['북구 설죽로202번길 90 (용봉동)'], 'image': ''}, {'placetitle': '커피예담 전대상대점', 'rate': '4.72', 'address': ['북구 설죽로202번길 28-2'], 'image': ''}, {'placetitle': '추억의모닥불 상대본점', 'rate': '4.33', 'address': ['북구 설죽로214번길 81'], 'image': ''}, {'placetitle': '봉구스밥버거 전남대상대점', 'rate': '4.52', 'address': ['북구 설죽로214번길 98'], 'image': ''}, {'placetitle': '뚜레쥬르 전대상대점', 'rate': '4.54', 'address': ['북구 반룡로42번길 15'], 'image': ''}, {'placetitle': '용천통닭 전대상대점', 'rate': '4.34', 'address': ['북구 반룡로28번길 29'], 'image': ''}, {'placetitle': '일상 전대상대점', 'rate': '4.33', 'address': ['북구 설죽로214번길 64 1층'], 'image': ''}, {'placetitle': '줄벼락 전남대학교 상대점', 'rate': '4.52', 'address': ['북구 설죽로214번길 70-6'], 'image': ['https://search.pstatic.net/common/?autoRotate=true&type=w278_sharpen&src=https%3A%2F%2Fpup-review-phinf.pstatic.net%2FMjAyMzAzMjFfMTMz%2FMDAxNjc5Mzg4MjQ3MDUx.sGn87ihBqza9oIggF0tMYMQ7JsIWv454sdPfNukIRQsg.OerGbQkjfU6llLwRkraZNr4Xm3NVfzQKlnYCFZyRsqEg.JPEG%2FA8DD9962-F971-4635-906E-A78D0877C368.jpeg']}, {'placetitle': '쌈육구전남상대점', 'rate': '4', 'address': ['북구 설죽로214번길 77'], 'image': ''}, {'placetitle': '만계치킨 상대점', 'rate': '4.21', 'address': ['북구 반룡로42번길 11'], 'image': ''}, {'placetitle': '이디야 전남대상대점', 'rate': '4.64', 'address': ['북구 설죽로202번길 71'], 'image': ''}, {'placetitle': '마왕족발 전대상대점', 'rate': '4.47', 'address': ['북구 설죽로202번길 63'], 'image': ''}, {'placetitle': '나우커피 광주전대상대점', 'rate': '', 'address': ['북구 반룡로28번길 31'], 'image': ''}, {'placetitle': 'BIGS COFFEE', 'rate': '4.64', 'address': ['북구 설죽로202번길 84 1층'], 'image': ''}, {'placetitle': '달콤해샐러드&샌드위치', 'rate': '4', 'address': ['북구 용주로30번길 64-1 2층 cafe우리.지금달콤해'], 'image': ['https://search.pstatic.net/common/?autoRotate=true&type=w278_sharpen&src=https%3A%2F%2Fldb-phinf.pstatic.net%2F20221219_163%2F1671386014604jPhPt_JPEG%2F1000000134.jpg']}, {'placetitle': '카페 아프리카', 'rate': '4.83', 'address': ['북구 설죽로202번길 94'], 'image': ['https://search.pstatic.net/common/?autoRotate=true&type=w278_sharpen&src=https%3A%2F%2Fldb-phinf.pstatic.net%2F20201130_171%2F1606723452894dJNyV_JPEG%2Frex_0rwYYOLlR3PGtOm-wGzr.jpg']}, {'placetitle': '마피아떡볶이 광주북구점', 'rate': '4.42', 'address': ['북구 반룡로 18 1층'], 'image': ['https://search.pstatic.net/common/?autoRotate=true&type=w278_sharpen&src=https%3A%2F%2Fldb-phinf.pstatic.net%2F20190517_267%2F15581051538764m4sd_JPEG%2FrUTeJF2re6g4QI1dRUHK3MQo.jpg']}, {'placetitle': '어디', 'rate': '4.68', 'address': ['북구 설죽로214번길 105 1층 카페어디'], 'image': ''}, {'placetitle': '잇샌드 전남대점', 'rate': '', 'address': ['북구 설죽로202번길 73 1층'], 'image': ['https://search.pstatic.net/common/?autoRotate=true&type=w278_sharpen&src=https%3A%2F%2Fldb-phinf.pstatic.net%2F20221102_248%2F1667376537126G81OH_JPEG%2F1667125486992.jpg']}, {'placetitle': '마미쿡 전대점', 'rate': '4.4', 'address': ['북구 설죽로214번길 80'], 'image': ''}, {'placetitle': '개대박 용봉점', 'rate': '', 'address': ['북구 운용로 89 1층 개대박 용봉점'], 'image': ''}, {'placetitle': '토마토도시락 용봉점', 'rate': '4.49', 'address': ['북구 설죽로214번길 88 1층'], 'image': ''}, {'placetitle': '훼이보릿 커피', 'rate': '', 'address': ['북구 설죽로214번길 76 1층'], 'image': ['https://search.pstatic.net/common/?autoRotate=true&type=w278_sharpen&src=https%3A%2F%2Fldb-phinf.pstatic.net%2F20230314_111%2F1678794134815UET0z_JPEG%2F47FCD9AC-2358-47DB-B6C7-80C10DAF86CF.jpeg']}, {'placetitle': '고마다커피', 'rate': '4.74', 'address': ['북구 설죽로202번길 83 1층'], 'image': ['https://search.pstatic.net/common/?autoRotate=true&type=w278_sharpen&src=https%3A%2F%2Fldb-phinf.pstatic.net%2F20180612_231%2F15287873844224LYyk_JPEG%2F8HPC0ABSgZaT4vZpBKa_lIzo.JPG.jpg']}, {'placetitle': 'one&two깻잎두마리치킨 용봉신남대점', 'rate': '4.38', 'address': ['북구 설죽로202번길 79'], 'image': ''}]\n"
     ]
    }
   ],
   "source": [
    "print(final_result)"
   ]
  },
  {
   "cell_type": "code",
   "execution_count": null,
   "id": "b77911ca",
   "metadata": {},
   "outputs": [],
   "source": []
  }
 ],
 "metadata": {
  "kernelspec": {
   "display_name": "Python 3 (ipykernel)",
   "language": "python",
   "name": "python3"
  },
  "language_info": {
   "codemirror_mode": {
    "name": "ipython",
    "version": 3
   },
   "file_extension": ".py",
   "mimetype": "text/x-python",
   "name": "python",
   "nbconvert_exporter": "python",
   "pygments_lexer": "ipython3",
   "version": "3.9.7"
  }
 },
 "nbformat": 4,
 "nbformat_minor": 5
}
